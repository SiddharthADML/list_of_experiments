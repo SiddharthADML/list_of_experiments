{
  "nbformat": 4,
  "nbformat_minor": 0,
  "metadata": {
    "colab": {
      "provenance": []
    },
    "kernelspec": {
      "name": "python3",
      "display_name": "Python 3"
    },
    "language_info": {
      "name": "python"
    }
  },
  "cells": [
    {
      "cell_type": "code",
      "execution_count": 1,
      "metadata": {
        "colab": {
          "base_uri": "https://localhost:8080/",
          "height": 571
        },
        "id": "b3JQoCiBLLpd",
        "outputId": "595fd294-f82a-405e-d75e-45239708943b"
      },
      "outputs": [
        {
          "metadata": {
            "tags": null
          },
          "name": "stdout",
          "output_type": "stream",
          "text": [
            "1\n",
            "2\n",
            "3\n",
            "4\n",
            "5\n",
            "6\n",
            "7\n",
            "8\n",
            "9\n",
            "10\n",
            "Sum: 55\n"
          ]
        },
        {
          "output_type": "error",
          "ename": "KeyboardInterrupt",
          "evalue": "ignored",
          "traceback": [
            "\u001b[0;31m---------------------------------------------------------------------------\u001b[0m",
            "\u001b[0;31mKeyboardInterrupt\u001b[0m                         Traceback (most recent call last)",
            "\u001b[0;32m<ipython-input-1-c479a888783c>\u001b[0m in \u001b[0;36m<cell line: 14>\u001b[0;34m()\u001b[0m\n\u001b[1;32m     12\u001b[0m \u001b[0mprint\u001b[0m\u001b[0;34m(\u001b[0m\u001b[0;34m\"Sum:\"\u001b[0m\u001b[0;34m,\u001b[0m \u001b[0msum\u001b[0m\u001b[0;34m)\u001b[0m\u001b[0;34m\u001b[0m\u001b[0;34m\u001b[0m\u001b[0m\n\u001b[1;32m     13\u001b[0m \u001b[0;31m#selection operation\u001b[0m\u001b[0;34m\u001b[0m\u001b[0;34m\u001b[0m\u001b[0m\n\u001b[0;32m---> 14\u001b[0;31m \u001b[0mscore\u001b[0m \u001b[0;34m=\u001b[0m \u001b[0mint\u001b[0m\u001b[0;34m(\u001b[0m\u001b[0minput\u001b[0m\u001b[0;34m(\u001b[0m\u001b[0;34m\"Enter the student's score: \"\u001b[0m\u001b[0;34m)\u001b[0m\u001b[0;34m)\u001b[0m\u001b[0;34m\u001b[0m\u001b[0;34m\u001b[0m\u001b[0m\n\u001b[0m\u001b[1;32m     15\u001b[0m \u001b[0;34m\u001b[0m\u001b[0m\n\u001b[1;32m     16\u001b[0m \u001b[0;32mif\u001b[0m \u001b[0mscore\u001b[0m \u001b[0;34m>=\u001b[0m \u001b[0;36m90\u001b[0m\u001b[0;34m:\u001b[0m\u001b[0;34m\u001b[0m\u001b[0;34m\u001b[0m\u001b[0m\n",
            "\u001b[0;32m/usr/local/lib/python3.10/dist-packages/ipykernel/kernelbase.py\u001b[0m in \u001b[0;36mraw_input\u001b[0;34m(self, prompt)\u001b[0m\n\u001b[1;32m    849\u001b[0m                 \u001b[0;34m\"raw_input was called, but this frontend does not support input requests.\"\u001b[0m\u001b[0;34m\u001b[0m\u001b[0;34m\u001b[0m\u001b[0m\n\u001b[1;32m    850\u001b[0m             )\n\u001b[0;32m--> 851\u001b[0;31m         return self._input_request(str(prompt),\n\u001b[0m\u001b[1;32m    852\u001b[0m             \u001b[0mself\u001b[0m\u001b[0;34m.\u001b[0m\u001b[0m_parent_ident\u001b[0m\u001b[0;34m,\u001b[0m\u001b[0;34m\u001b[0m\u001b[0;34m\u001b[0m\u001b[0m\n\u001b[1;32m    853\u001b[0m             \u001b[0mself\u001b[0m\u001b[0;34m.\u001b[0m\u001b[0m_parent_header\u001b[0m\u001b[0;34m,\u001b[0m\u001b[0;34m\u001b[0m\u001b[0;34m\u001b[0m\u001b[0m\n",
            "\u001b[0;32m/usr/local/lib/python3.10/dist-packages/ipykernel/kernelbase.py\u001b[0m in \u001b[0;36m_input_request\u001b[0;34m(self, prompt, ident, parent, password)\u001b[0m\n\u001b[1;32m    893\u001b[0m             \u001b[0;32mexcept\u001b[0m \u001b[0mKeyboardInterrupt\u001b[0m\u001b[0;34m:\u001b[0m\u001b[0;34m\u001b[0m\u001b[0;34m\u001b[0m\u001b[0m\n\u001b[1;32m    894\u001b[0m                 \u001b[0;31m# re-raise KeyboardInterrupt, to truncate traceback\u001b[0m\u001b[0;34m\u001b[0m\u001b[0;34m\u001b[0m\u001b[0m\n\u001b[0;32m--> 895\u001b[0;31m                 \u001b[0;32mraise\u001b[0m \u001b[0mKeyboardInterrupt\u001b[0m\u001b[0;34m(\u001b[0m\u001b[0;34m\"Interrupted by user\"\u001b[0m\u001b[0;34m)\u001b[0m \u001b[0;32mfrom\u001b[0m \u001b[0;32mNone\u001b[0m\u001b[0;34m\u001b[0m\u001b[0;34m\u001b[0m\u001b[0m\n\u001b[0m\u001b[1;32m    896\u001b[0m             \u001b[0;32mexcept\u001b[0m \u001b[0mException\u001b[0m \u001b[0;32mas\u001b[0m \u001b[0me\u001b[0m\u001b[0;34m:\u001b[0m\u001b[0;34m\u001b[0m\u001b[0;34m\u001b[0m\u001b[0m\n\u001b[1;32m    897\u001b[0m                 \u001b[0mself\u001b[0m\u001b[0;34m.\u001b[0m\u001b[0mlog\u001b[0m\u001b[0;34m.\u001b[0m\u001b[0mwarning\u001b[0m\u001b[0;34m(\u001b[0m\u001b[0;34m\"Invalid Message:\"\u001b[0m\u001b[0;34m,\u001b[0m \u001b[0mexc_info\u001b[0m\u001b[0;34m=\u001b[0m\u001b[0;32mTrue\u001b[0m\u001b[0;34m)\u001b[0m\u001b[0;34m\u001b[0m\u001b[0;34m\u001b[0m\u001b[0m\n",
            "\u001b[0;31mKeyboardInterrupt\u001b[0m: Interrupted by user"
          ]
        }
      ],
      "source": [
        "#while loop\n",
        "num = 1\n",
        "\n",
        "while num <= 10:\n",
        "    print(num)\n",
        "    num += 1\n",
        "sum = 0\n",
        "#for loop\n",
        "for num in range(1, 11):\n",
        "    sum += num\n",
        "\n",
        "print(\"Sum:\", sum)\n",
        "#selection operation\n",
        "score = int(input(\"Enter the student's score: \"))\n",
        "\n",
        "if score >= 90:\n",
        "    print(\"Grade: A\")\n",
        "elif score >= 80:\n",
        "    print(\"Grade: B\")\n",
        "elif score >= 70:\n",
        "    print(\"Grade: C\")\n",
        "elif score >= 60:\n",
        "    print(\"Grade: D\")\n",
        "else:\n",
        "    print(\"Grade: F\")\n",
        "\n",
        "\n"
      ]
    },
    {
      "cell_type": "code",
      "source": [
        "#2nd question\n",
        "def factorial(num):\n",
        "    if num == 0 or num == 1:\n",
        "        return 1\n",
        "    else:\n",
        "        return num * factorial(num - 1)\n",
        "\n",
        "def count_digits(num):\n",
        "    return len(str(num))\n",
        "\n",
        "def is_palindrome(num):\n",
        "    num_str = str(num)\n",
        "    reversed_num_str = num_str[::-1]\n",
        "    return num_str == reversed_num_str\n",
        "\n",
        "# Get user input\n",
        "num = int(input(\"Enter an integer number: \"))\n",
        "\n",
        "# Check if the number is odd or even\n",
        "if num % 2 != 0:\n",
        "    # Calculate factorial and count digits\n",
        "    fact = factorial(num)\n",
        "    num_digits = count_digits(fact)\n",
        "    print(\"Factorial:\", fact)\n",
        "    print(\"Number of digits in the factorial:\", num_digits)\n",
        "else:\n",
        "    # Check if the number is a palindrome\n",
        "    if is_palindrome(num):\n",
        "        print(\"The number is a palindrome.\")\n",
        "    else:\n",
        "        print(\"The number is not a palindrome.\")\n"
      ],
      "metadata": {
        "id": "2nb0weZ-OGO-"
      },
      "execution_count": null,
      "outputs": []
    },
    {
      "cell_type": "code",
      "source": [
        "#3rd question\n",
        "string = \"Hello World\"\n",
        "length = len(string)\n",
        "print(length)\n",
        "\n",
        "string = \"Hello\"\n",
        "print(string[0])\n",
        "print(string[-1])\n",
        "\n",
        "string = \"Hello World\"\n",
        "substring = string[0:5]\n",
        "print(substring)\n",
        "\n",
        "string = \" Hello World \"\n",
        "print(string.lower())\n",
        "print(string.upper())\n",
        "print(string.strip())\n",
        "print(string.split())\n",
        "print(string.replace('o', 'e'))\n",
        "print(string.find('W'))\n",
        "\n",
        "\n"
      ],
      "metadata": {
        "id": "VQrdq4qVOnS1"
      },
      "execution_count": null,
      "outputs": []
    },
    {
      "cell_type": "code",
      "source": [
        "#4th question\n",
        "def can_obtain_by_deletion(str1, str2):\n",
        "    index1 = 0\n",
        "    index2 = 0\n",
        "\n",
        "    while index1 < len(str1) and index2 < len(str2):\n",
        "        if str1[index1] == str2[index2]:\n",
        "            index1 += 1\n",
        "            index2 += 1\n",
        "        else:\n",
        "            index1 += 1\n",
        "\n",
        "    return index2 == len(str2)\n",
        "\n",
        "# Get two strings from the user\n",
        "string1 = input(\"Enter the first string: \")\n",
        "string2 = input(\"Enter the second string: \")\n",
        "\n",
        "# Check if the second string can be obtained by deletion from the first string\n",
        "if can_obtain_by_deletion(string1, string2):\n",
        "    print(\"YES\")\n",
        "else:\n",
        "    print(\"NO\")\n",
        "\n"
      ],
      "metadata": {
        "id": "gi1b7GzFO7uc"
      },
      "execution_count": null,
      "outputs": []
    },
    {
      "cell_type": "code",
      "source": [
        "#5th question\n",
        "def can_obtain_by_deletion(str1, str2):\n",
        "    index1 = 0\n",
        "    index2 = 0\n",
        "\n",
        "    while index1 < len(str1) and index2 < len(str2):\n",
        "        if str1[index1] == str2[index2]:\n",
        "            index1 += 1\n",
        "            index2 += 1\n",
        "        else:\n",
        "            index1 += 1\n",
        "\n",
        "    return index2 == len(str2)\n",
        "\n",
        "# Get two strings from the user\n",
        "string1 = input(\"Enter the first string: \")\n",
        "string2 = input(\"Enter the second string: \")\n",
        "\n",
        "# Check if the second string can be obtained by deletion from the first string\n",
        "if can_obtain_by_deletion(string1, string2):\n",
        "    print(\"YES\")\n",
        "else:\n",
        "    print(\"NO\")\n"
      ],
      "metadata": {
        "id": "MiqF6Xk3POJg"
      },
      "execution_count": null,
      "outputs": []
    },
    {
      "cell_type": "code",
      "source": [
        "#6th question\n",
        "string = \"Hello\"\n",
        "\n",
        "# Accessing characters using positive indexing\n",
        "print(string[0])\n",
        "print(string[1])\n",
        "print(string[2])\n",
        "print(string[3])\n",
        "print(string[4])\n",
        "\n",
        "string = \"Hello\"\n",
        "\n",
        "# Accessing characters using negative indexing\n",
        "print(string[-1])\n",
        "print(string[-2])\n",
        "print(string[-3])\n",
        "print(string[-4])\n",
        "print(string[-5])\n",
        "\n",
        "string = \"Hello\"\n",
        "\n",
        "# Printing characters in reverse order using negative indexing\n",
        "index = -1\n",
        "while index >= -len(string):\n",
        "    print(string[index])\n",
        "    index -= 1\n",
        "\n",
        "\n",
        "string = \"Hello, World!\"\n",
        "\n",
        "# Retrieve substring using positive and negative indexing\n",
        "substring1 = string[0:5]\n",
        "substring2 = string[7:-1]\n",
        "substring3 = string[-6:-1]\n",
        "substring4 = string[:-8]\n",
        "substring5 = string[7:]\n"
      ],
      "metadata": {
        "id": "505ePXX6PYCm"
      },
      "execution_count": null,
      "outputs": []
    },
    {
      "cell_type": "code",
      "source": [
        "#7th question\n",
        "def is_ascending(lst):\n",
        "    for i in range(len(lst) - 1):\n",
        "        if lst[i] > lst[i + 1]:\n",
        "            return False\n",
        "    return True\n",
        "\n",
        "# Get a list of numbers from the user\n",
        "nums = input(\"Enter a list of numbers separated by spaces: \").split()\n",
        "nums = [int(num) for num in nums]\n",
        "\n",
        "# Check if the list is in ascending order\n",
        "if is_ascending(nums):\n",
        "    print(\"The list is in ascending order.\")\n",
        "else:\n",
        "    print(\"The list is not in ascending order.\")\n",
        "\n"
      ],
      "metadata": {
        "id": "YVT_RNOGQdoB"
      },
      "execution_count": null,
      "outputs": []
    },
    {
      "cell_type": "code",
      "source": [
        "#8th question\n",
        "my_tuple = (1, 2, 3)\n",
        "\n",
        "my_tuple = (1, 2, 3)\n",
        "print(my_tuple[0])\n",
        "print(my_tuple[1])\n",
        "\n",
        "my_tuple = (1, 2, 3, 4, 5)\n",
        "print(my_tuple[1:4])\n",
        "\n",
        "tuple1 = (1, 2, 3)\n",
        "tuple2 = (4, 5, 6)\n",
        "concatenated_tuple = tuple1 + tuple2\n",
        "print(concatenated_tuple)\n",
        "\n",
        "my_tuple = (1, 2, 3, 4, 5)\n",
        "print(len(my_tuple))\n",
        "\n",
        "my_tuple = (1, 2, 3)\n",
        "a, b, c = my_tuple\n",
        "print(a, b, c)\n",
        "\n",
        "my_tuple = (1, 2, 3, 1, 4, 1)\n",
        "print(my_tuple.count(1))\n",
        "print(my_tuple.index(4))\n",
        "\n",
        "\n",
        "\n",
        "\n"
      ],
      "metadata": {
        "id": "aAeQiPPSQjOh"
      },
      "execution_count": null,
      "outputs": []
    },
    {
      "cell_type": "code",
      "source": [
        "#9th question\n",
        "my_tuple = ('H', 'e', 'l', 'l', 'o')\n",
        "\n",
        "# Convert tuple to a string\n",
        "string = ''.join(my_tuple)\n",
        "\n",
        "print(string)\n"
      ],
      "metadata": {
        "id": "hF172RjpRRef"
      },
      "execution_count": null,
      "outputs": []
    },
    {
      "cell_type": "code",
      "source": [
        "#10th & 11th question\n",
        "def reverse_tuple(tuple):\n",
        "    reversed_tuple = tuple[::-1]\n",
        "    return reversed_tuple\n",
        "\n",
        "my_tuple = (1, 2, 3, 4, 5)\n",
        "\n",
        "# Reverse the tuple\n",
        "reversed_tuple = reverse_tuple(my_tuple)\n",
        "\n",
        "print(reversed_tuple)\n",
        "\n",
        "my_set = {1, 2, 3}\n",
        "\n",
        "my_set = {1, 2, 3}\n",
        "my_set.add(4)\n",
        "print(my_set)\n",
        "\n",
        "my_set = {1, 2, 3}\n",
        "my_set.remove(2)\n",
        "print(my_set)\n",
        "set1 = {1, 2, 3}\n",
        "set2 = {2, 3, 4}\n",
        "\n",
        "union = set1.union(set2)\n",
        "print(union)\n",
        "\n",
        "intersection = set1.intersection(set2)\n",
        "print(intersection)\n",
        "\n",
        "difference = set1.difference(set2)\n",
        "print(difference)\n",
        "\n",
        "my_set = {1, 2, 3}\n",
        "\n",
        "print(len(my_set))\n",
        "my_set.pop()\n",
        "print(my_set)\n",
        "my_set.clear()\n",
        "print(my_set)\n",
        "copy_set = my_set.copy()\n",
        "print(copy_set)\n"
      ],
      "metadata": {
        "id": "UQYJ8Mi0RlXw"
      },
      "execution_count": null,
      "outputs": []
    },
    {
      "cell_type": "code",
      "source": [
        "#12th question\n",
        "\n",
        "def is_subset(set1, set2):\n",
        "    return set1.issubset(set2)\n",
        "\n",
        "# Get two sets from the user\n",
        "set1 = set(input(\"Enter elements of the first set (space-separated): \").split())\n",
        "set2 = set(input(\"Enter elements of the second set (space-separated): \").split())\n",
        "\n",
        "# Check if set1 is a subset of set2\n",
        "if is_subset(set1, set2):\n",
        "    print(\"set1 is a subset of set2.\")\n",
        "else:\n",
        "    print(\"set1 is not a subset of set2.\")\n"
      ],
      "metadata": {
        "id": "wSJDORuiSAh-"
      },
      "execution_count": null,
      "outputs": []
    },
    {
      "cell_type": "code",
      "source": [
        "#13th question\n",
        "my_dict = {'key1': 'value1', 'key2': 'value2'}\n",
        "\n",
        "my_dict = {'name': 'John', 'age': 25}\n",
        "print(my_dict['name'])\n",
        "\n",
        "my_dict = {'name': 'John', 'age': 25}\n",
        "my_dict['occupation'] = 'Engineer'\n",
        "my_dict['age'] = 26\n",
        "print(my_dict)\n",
        "\n",
        "my_dict = {'name': 'John', 'age': 25}\n",
        "del my_dict['age']\n",
        "print(my_dict)\n",
        "\n",
        "my_dict = {'name': 'John', 'age': 25}\n",
        "del my_dict['age']\n",
        "print(my_dict)\n",
        "\n",
        "my_dict = {'name': 'John', 'age': 25}\n",
        "my_dict.pop('age')\n",
        "print(my_dict)\n",
        "\n",
        "my_dict = {'name': 'John', 'age': 25}\n",
        "\n",
        "print(my_dict.keys())\n",
        "print(my_dict.values())\n",
        "print(my_dict.items())\n",
        "\n",
        "print(my_dict.get('name'))\n",
        "print(my_dict.get('city'))\n",
        "\n",
        "my_dict2 = {'occupation': 'Engineer'}\n",
        "my_dict.update(my_dict2)\n",
        "print(my_dict)\n",
        "\n",
        "\n"
      ],
      "metadata": {
        "id": "61PVIND2Sky0"
      },
      "execution_count": null,
      "outputs": []
    },
    {
      "cell_type": "code",
      "source": [
        "#14th question\n",
        "my_dict = {'name': 'John', 'age': 25, 'occupation': 'Engineer'}\n",
        "\n",
        "# Iterate over keys\n",
        "print(\"Keys:\")\n",
        "for key in my_dict:\n",
        "    print(key)\n",
        "\n",
        "# Iterate over values\n",
        "print(\"\\nValues:\")\n",
        "for value in my_dict.values():\n",
        "    print(value)\n",
        "\n",
        "# Iterate over key-value pairs\n",
        "print(\"\\nKey-Value Pairs:\")\n",
        "for key, value in my_dict.items():\n",
        "    print(key, \":\", value)\n"
      ],
      "metadata": {
        "id": "xHVyy-nJTQI0"
      },
      "execution_count": null,
      "outputs": []
    }
  ]
}